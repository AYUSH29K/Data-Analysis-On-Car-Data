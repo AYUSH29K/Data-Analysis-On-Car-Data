{
 "cells": [
  {
   "cell_type": "code",
   "execution_count": 360,
   "metadata": {},
   "outputs": [
    {
     "data": {
      "text/html": [
       "<div>\n",
       "<style scoped>\n",
       "    .dataframe tbody tr th:only-of-type {\n",
       "        vertical-align: middle;\n",
       "    }\n",
       "\n",
       "    .dataframe tbody tr th {\n",
       "        vertical-align: top;\n",
       "    }\n",
       "\n",
       "    .dataframe thead th {\n",
       "        text-align: right;\n",
       "    }\n",
       "</style>\n",
       "<table border=\"1\" class=\"dataframe\">\n",
       "  <thead>\n",
       "    <tr style=\"text-align: right;\">\n",
       "      <th></th>\n",
       "      <th>symboling</th>\n",
       "      <th>normalized-losses</th>\n",
       "      <th>make</th>\n",
       "      <th>fuel-type</th>\n",
       "      <th>aspiration</th>\n",
       "      <th>num-of-doors</th>\n",
       "      <th>body-style</th>\n",
       "      <th>drive-wheels</th>\n",
       "      <th>engine-location</th>\n",
       "      <th>wheel-base</th>\n",
       "      <th>...</th>\n",
       "      <th>engine-size</th>\n",
       "      <th>fuel-system</th>\n",
       "      <th>bore</th>\n",
       "      <th>stroke</th>\n",
       "      <th>compression-ratio</th>\n",
       "      <th>horsepower</th>\n",
       "      <th>peak-rpm</th>\n",
       "      <th>city-mpg</th>\n",
       "      <th>highway-mpg</th>\n",
       "      <th>price</th>\n",
       "    </tr>\n",
       "  </thead>\n",
       "  <tbody>\n",
       "    <tr>\n",
       "      <th>0</th>\n",
       "      <td>3</td>\n",
       "      <td>?</td>\n",
       "      <td>alfa-romero</td>\n",
       "      <td>gas</td>\n",
       "      <td>std</td>\n",
       "      <td>two</td>\n",
       "      <td>convertible</td>\n",
       "      <td>rwd</td>\n",
       "      <td>front</td>\n",
       "      <td>88.6</td>\n",
       "      <td>...</td>\n",
       "      <td>130</td>\n",
       "      <td>mpfi</td>\n",
       "      <td>3.47</td>\n",
       "      <td>2.68</td>\n",
       "      <td>9.0</td>\n",
       "      <td>111</td>\n",
       "      <td>5000</td>\n",
       "      <td>21</td>\n",
       "      <td>27</td>\n",
       "      <td>16500</td>\n",
       "    </tr>\n",
       "    <tr>\n",
       "      <th>1</th>\n",
       "      <td>1</td>\n",
       "      <td>?</td>\n",
       "      <td>alfa-romero</td>\n",
       "      <td>gas</td>\n",
       "      <td>std</td>\n",
       "      <td>two</td>\n",
       "      <td>hatchback</td>\n",
       "      <td>rwd</td>\n",
       "      <td>front</td>\n",
       "      <td>94.5</td>\n",
       "      <td>...</td>\n",
       "      <td>152</td>\n",
       "      <td>mpfi</td>\n",
       "      <td>2.68</td>\n",
       "      <td>3.47</td>\n",
       "      <td>9.0</td>\n",
       "      <td>154</td>\n",
       "      <td>5000</td>\n",
       "      <td>19</td>\n",
       "      <td>26</td>\n",
       "      <td>16500</td>\n",
       "    </tr>\n",
       "    <tr>\n",
       "      <th>2</th>\n",
       "      <td>2</td>\n",
       "      <td>164</td>\n",
       "      <td>audi</td>\n",
       "      <td>gas</td>\n",
       "      <td>std</td>\n",
       "      <td>four</td>\n",
       "      <td>sedan</td>\n",
       "      <td>fwd</td>\n",
       "      <td>front</td>\n",
       "      <td>99.8</td>\n",
       "      <td>...</td>\n",
       "      <td>109</td>\n",
       "      <td>mpfi</td>\n",
       "      <td>3.19</td>\n",
       "      <td>3.40</td>\n",
       "      <td>10.0</td>\n",
       "      <td>102</td>\n",
       "      <td>5500</td>\n",
       "      <td>24</td>\n",
       "      <td>30</td>\n",
       "      <td>13950</td>\n",
       "    </tr>\n",
       "    <tr>\n",
       "      <th>3</th>\n",
       "      <td>2</td>\n",
       "      <td>164</td>\n",
       "      <td>audi</td>\n",
       "      <td>gas</td>\n",
       "      <td>std</td>\n",
       "      <td>four</td>\n",
       "      <td>sedan</td>\n",
       "      <td>4wd</td>\n",
       "      <td>front</td>\n",
       "      <td>99.4</td>\n",
       "      <td>...</td>\n",
       "      <td>136</td>\n",
       "      <td>mpfi</td>\n",
       "      <td>3.19</td>\n",
       "      <td>3.40</td>\n",
       "      <td>8.0</td>\n",
       "      <td>115</td>\n",
       "      <td>5500</td>\n",
       "      <td>18</td>\n",
       "      <td>22</td>\n",
       "      <td>17450</td>\n",
       "    </tr>\n",
       "    <tr>\n",
       "      <th>4</th>\n",
       "      <td>2</td>\n",
       "      <td>?</td>\n",
       "      <td>audi</td>\n",
       "      <td>gas</td>\n",
       "      <td>std</td>\n",
       "      <td>two</td>\n",
       "      <td>sedan</td>\n",
       "      <td>fwd</td>\n",
       "      <td>front</td>\n",
       "      <td>99.8</td>\n",
       "      <td>...</td>\n",
       "      <td>136</td>\n",
       "      <td>mpfi</td>\n",
       "      <td>3.19</td>\n",
       "      <td>3.40</td>\n",
       "      <td>8.5</td>\n",
       "      <td>110</td>\n",
       "      <td>5500</td>\n",
       "      <td>19</td>\n",
       "      <td>25</td>\n",
       "      <td>15250</td>\n",
       "    </tr>\n",
       "  </tbody>\n",
       "</table>\n",
       "<p>5 rows × 26 columns</p>\n",
       "</div>"
      ],
      "text/plain": [
       "   symboling normalized-losses         make fuel-type aspiration num-of-doors  \\\n",
       "0          3                 ?  alfa-romero       gas        std          two   \n",
       "1          1                 ?  alfa-romero       gas        std          two   \n",
       "2          2               164         audi       gas        std         four   \n",
       "3          2               164         audi       gas        std         four   \n",
       "4          2                 ?         audi       gas        std          two   \n",
       "\n",
       "    body-style drive-wheels engine-location  wheel-base  ...  engine-size  \\\n",
       "0  convertible          rwd           front        88.6  ...          130   \n",
       "1    hatchback          rwd           front        94.5  ...          152   \n",
       "2        sedan          fwd           front        99.8  ...          109   \n",
       "3        sedan          4wd           front        99.4  ...          136   \n",
       "4        sedan          fwd           front        99.8  ...          136   \n",
       "\n",
       "   fuel-system  bore  stroke compression-ratio horsepower  peak-rpm city-mpg  \\\n",
       "0         mpfi  3.47    2.68               9.0        111      5000       21   \n",
       "1         mpfi  2.68    3.47               9.0        154      5000       19   \n",
       "2         mpfi  3.19    3.40              10.0        102      5500       24   \n",
       "3         mpfi  3.19    3.40               8.0        115      5500       18   \n",
       "4         mpfi  3.19    3.40               8.5        110      5500       19   \n",
       "\n",
       "  highway-mpg  price  \n",
       "0          27  16500  \n",
       "1          26  16500  \n",
       "2          30  13950  \n",
       "3          22  17450  \n",
       "4          25  15250  \n",
       "\n",
       "[5 rows x 26 columns]"
      ]
     },
     "execution_count": 360,
     "metadata": {},
     "output_type": "execute_result"
    }
   ],
   "source": [
    "import pandas as pd\n",
    "import numpy as np\n",
    "url = \"https://s3-api.us-geo.objectstorage.softlayer.net/cf-courses-data/CognitiveClass/DA0101EN/auto.csv\"\n",
    "df=pd.read_csv(url)\n",
    "\n",
    "headers = [\"symboling\",\"normalized-losses\",\"make\",\"fuel-type\",\"aspiration\", \"num-of-doors\",\"body-style\",\n",
    "         \"drive-wheels\",\"engine-location\",\"wheel-base\", \"length\",\"width\",\"height\",\"curb-weight\",\"engine-type\",\n",
    "         \"num-of-cylinders\", \"engine-size\",\"fuel-system\",\"bore\",\"stroke\",\"compression-ratio\",\"horsepower\",\n",
    "         \"peak-rpm\",\"city-mpg\",\"highway-mpg\",\"price\"]\n",
    "df.columns = headers\n",
    "df.head() \n",
    "# DataSet Ready!"
   ]
  },
  {
   "cell_type": "code",
   "execution_count": 361,
   "metadata": {},
   "outputs": [],
   "source": [
    "df.price = pd.to_numeric(df.price, errors='coerce').fillna(0).astype(np.int64) \n",
    "df.horsepower = pd.to_numeric(df.horsepower, errors='coerce').fillna(0).astype(np.int64) "
   ]
  },
  {
   "cell_type": "code",
   "execution_count": 362,
   "metadata": {},
   "outputs": [],
   "source": [
    "#Model Evalutaion\n",
    "from sklearn.model_selection import train_test_split \n",
    "# For model evaluation, import train_test_split (training and testing data , 2 sets will be created)"
   ]
  },
  {
   "cell_type": "code",
   "execution_count": 363,
   "metadata": {},
   "outputs": [],
   "source": [
    "x_data=df[['highway-mpg']]\n",
    "y_data = df['price']\n",
    "# Define target and predictor variables i.e. y and x"
   ]
  },
  {
   "cell_type": "code",
   "execution_count": 378,
   "metadata": {},
   "outputs": [],
   "source": [
    "x_train,x_test,y_train,y_test=train_test_split(x_data,y_data,test_size=0.3,random_state=0)\n",
    "# Use train_test_split for model evaluation split data into training and testing sets where 30% is for training set\n",
    "# Random_state=0 for producing different results on execution of the function"
   ]
  },
  {
   "cell_type": "code",
   "execution_count": 365,
   "metadata": {},
   "outputs": [
    {
     "name": "stdout",
     "output_type": "stream",
     "text": [
      "number of test samples : 62\n",
      "number of training samples: 142\n"
     ]
    }
   ],
   "source": [
    "print(\"number of test samples :\", x_test.shape[0])\n",
    "print(\"number of training samples:\",x_train.shape[0])\n",
    "PollyPlot(x_train[['horsepower']], x_test[['horsepower']], y_train, y_test, poly,pr)"
   ]
  },
  {
   "cell_type": "code",
   "execution_count": 366,
   "metadata": {},
   "outputs": [],
   "source": [
    "# Cross validation to reduce precision and accuracy problems in generalization error\n",
    "from sklearn.model_selection import cross_val_score # Import cross_val_score function for cross validation "
   ]
  },
  {
   "cell_type": "code",
   "execution_count": 367,
   "metadata": {},
   "outputs": [],
   "source": [
    "from sklearn.linear_model import LinearRegression \n",
    "lr=LinearRegression()# Declare lr object for use in the next statement"
   ]
  },
  {
   "cell_type": "code",
   "execution_count": 368,
   "metadata": {},
   "outputs": [
    {
     "name": "stdout",
     "output_type": "stream",
     "text": [
      "[0.47489091 0.45261793 0.04826532]\n"
     ]
    }
   ],
   "source": [
    "scores=cross_val_score(lr,x_data,y_data,cv=3)# cv=3 meaning 3 partitions i.e. 3 fold data set for trg and testing\n",
    "print(scores)"
   ]
  },
  {
   "cell_type": "code",
   "execution_count": 369,
   "metadata": {},
   "outputs": [
    {
     "name": "stdout",
     "output_type": "stream",
     "text": [
      "The mean of the folds are 0.32525805533573715 and the standard deviation is 0.19607439465533547\n"
     ]
    }
   ],
   "source": [
    "print(\"The mean of the folds are\", scores.mean(), \"and the standard deviation is\" , scores.std())\n",
    "# Calculating avg and std dev of our estimate"
   ]
  },
  {
   "cell_type": "code",
   "execution_count": 370,
   "metadata": {},
   "outputs": [],
   "source": [
    "from sklearn.model_selection import cross_val_predict \n",
    "# The previous cross validation method predicts after calculating R^2\n",
    "# Using cross_val_predict , we get our values before R^2 is calculated"
   ]
  },
  {
   "cell_type": "code",
   "execution_count": 371,
   "metadata": {},
   "outputs": [
    {
     "name": "stdout",
     "output_type": "stream",
     "text": [
      "[15654.89099443 16463.34250221 13229.53647109 19697.14853333\n",
      " 17271.79400999 17271.79400999 17271.79400999 21314.05154888\n",
      " 19697.14853333 14037.98797887 14037.98797887 14846.43948665\n",
      " 14846.43948665 17271.79400999 19697.14853333 19697.14853333\n",
      " 21314.05154888 -5364.84820785  2719.66686995  2719.66686995\n",
      "  4336.56988551  6761.92440885 13229.53647109  6761.92440885\n",
      "  6761.92440885  6761.92440885 13229.53647109 13229.53647109\n",
      " 18080.24551777 -6173.29971562  6761.92440885  3528.11837773\n",
      "  9995.73043997  9995.73043997  9995.73043997  9995.73043997\n",
      " 10804.18194775 10804.18194775 10804.18194775 10804.18194775\n",
      " 14846.43948665 12421.08496331 14037.98797887  2719.66686995\n",
      "  2719.66686995 14037.98797887 22122.50305666 22122.50305666\n",
      " 23739.40607222 12421.08496331  6761.92440885  6761.92440885\n",
      "  6761.92440885  6761.92440885 18888.69702555 18888.69702555\n",
      " 18888.69702555 18888.69702555 11612.63345553 11612.63345553\n",
      " 11612.63345553 11612.63345553  3528.11837773 11612.63345553\n",
      " 15654.89099443  5953.47290107 17271.79400999 17271.79400999\n",
      " 16737.12897663 16737.12897663 21682.93330321 21682.93330321\n",
      " 23096.02025366 23096.02025366 17443.67245186  5432.43337303\n",
      "  7552.0637987   7552.0637987  13204.41160051 13204.41160051\n",
      " 11791.32465006 17443.67245186 17443.67245186 17443.67245186\n",
      " 11791.32465006 11791.32465006 13204.41160051 13204.41160051\n",
      "  8258.60727393  -926.457904    8258.60727393  8258.60727393\n",
      "  8258.60727393  8258.60727393  8258.60727393  8258.60727393\n",
      "  8258.60727393  8258.60727393 10378.23769961 10378.23769961\n",
      " 18856.75940231 18856.75940231 16737.12897663 16737.12897663\n",
      " 18150.21592709 16737.12897663 17443.67245186 11084.78117483\n",
      " 17443.67245186 16737.12897663 17443.67245186 11084.78117483\n",
      " 17443.67245186 16737.12897663 17443.67245186 11084.78117483\n",
      " 17443.67245186  5432.43337303 13204.41160051  7552.0637987\n",
      "  7552.0637987   7552.0637987  13204.41160051 17443.67245186\n",
      " 15324.04202618 16737.12897663 16737.12897663 16737.12897663\n",
      " 14617.49855096 12497.86812528 12497.86812528 14617.49855096\n",
      " 14617.49855096 14617.49855096 14617.49855096 16030.58550141\n",
      " 17721.013264    8805.66065546 13263.33695973 13263.33695973\n",
      "  7914.12539461 11480.26643802 12371.80169888 18612.54852485\n",
      " 15046.40748144 12371.80169888 13263.33695973 15046.40748144\n",
      " 20395.61904656  6131.0548729   7022.59013375  7022.59013375\n",
      "  7914.12539461 12371.80169888 12371.80169888  7914.12539461\n",
      "  7914.12539461  8805.66065546 -1001.22721393 -1001.22721393\n",
      " 10588.73117717 10588.73117717 10588.73117717 10588.73117717\n",
      " 15046.40748144 15046.40748144 14154.87222058 14154.87222058\n",
      " 14154.87222058 14154.87222058 14154.87222058 14154.87222058\n",
      " 10588.73117717 11480.26643802 12371.80169888 12371.80169888\n",
      " 12371.80169888 19504.08378571 19504.08378571 19504.08378571\n",
      " 19504.08378571  -109.69195308 10588.73117717  -109.69195308\n",
      " 10588.73117717 10588.73117717  3456.44909034 12371.80169888\n",
      " 15046.40748144 15046.40748144 19504.08378571  7022.59013375\n",
      " 13263.33695973 15937.94274229 15937.94274229 15937.94274229\n",
      " 15937.94274229 21287.15430741 21287.15430741 15937.94274229\n",
      " 18612.54852485 20395.61904656 16829.47800314 18612.54852485]\n"
     ]
    }
   ],
   "source": [
    "from sklearn.linear_model import LinearRegression \n",
    "lr2e=LinearRegression()\n",
    "yhat=cross_val_predict(lr2e,x_data,y_data,cv=3)# lr2 new object defined function cross_val_predict used\n",
    "print(yhat)"
   ]
  },
  {
   "cell_type": "code",
   "execution_count": 384,
   "metadata": {},
   "outputs": [],
   "source": [
    "#Overfitting, underfitting and model selection\n",
    "lm=LinearRegression() # Creating an object lm\n",
    "from sklearn.preprocessing import PolynomialFeatures # import this for higher order expressions"
   ]
  },
  {
   "cell_type": "code",
   "execution_count": 385,
   "metadata": {},
   "outputs": [],
   "source": [
    "Rsqu_test=[] # Create empty list to store values\n",
    "order=[1,2,3,4] # Create list containing different polynomial orders"
   ]
  },
  {
   "cell_type": "code",
   "execution_count": 386,
   "metadata": {},
   "outputs": [],
   "source": [
    "for n in order: # Run a loop\n",
    "    pr=PolynomialFeatures(degree=n)# Create a polynomial features object with order as a parameter\n",
    "    x_train_pr=pr.fit_transform(x_train[['horsepower']]) # Transform training data into polynomial\n",
    "    x_test_pr=pr.fit_transform(x_test[['horsepower']]) # Transform test data into polynomial\n",
    "    lm.fit(x_train_pr,y_train) # Fit the regression model using transformed data\n",
    "    Rsqu_test.append(lm.score(x_test_pr,y_test)) #Calculate R^2 values using test data and store them in the list"
   ]
  },
  {
   "cell_type": "code",
   "execution_count": 387,
   "metadata": {},
   "outputs": [
    {
     "data": {
      "text/plain": [
       "Text(3, 0.75, 'Maximum R^2 ')"
      ]
     },
     "execution_count": 387,
     "metadata": {},
     "output_type": "execute_result"
    },
    {
     "data": {
      "image/png": "[encoded data removed]",
      "text/plain": [
       "<Figure size 432x288 with 1 Axes>"
      ]
     },
     "metadata": {
      "needs_background": "light"
     },
     "output_type": "display_data"
    }
   ],
   "source": [
    "plt.plot(order, Rsqu_test)\n",
    "plt.xlabel('order')\n",
    "plt.ylabel('R^2')\n",
    "plt.title('R^2 Using Test Data')\n",
    "plt.text(3, 0.75, 'Maximum R^2 ')  \n",
    "#As order increases R^2 increases and reaches optimum value at 3 then drastically decreases"
   ]
  },
  {
   "cell_type": "code",
   "execution_count": 422,
   "metadata": {},
   "outputs": [],
   "source": [
    "# Ridge Regression\n",
    "from sklearn.linear_model import Ridge # import ridge from sklearn.linear_model "
   ]
  },
  {
   "cell_type": "code",
   "execution_count": 423,
   "metadata": {},
   "outputs": [],
   "source": [
    "X=df[['highway-mpg']]\n",
    "y=df['price']"
   ]
  },
  {
   "cell_type": "code",
   "execution_count": 424,
   "metadata": {},
   "outputs": [],
   "source": [
    "RigeModel=Ridge(alpha=0.1) # Create a ridge object using the constructor with the alpha value as a parameter"
   ]
  },
  {
   "cell_type": "code",
   "execution_count": 425,
   "metadata": {},
   "outputs": [
    {
     "data": {
      "text/plain": [
       "Ridge(alpha=0.1)"
      ]
     },
     "execution_count": 425,
     "metadata": {},
     "output_type": "execute_result"
    }
   ],
   "source": [
    "RigeModel.fit(X,y) # Train the model "
   ]
  },
  {
   "cell_type": "code",
   "execution_count": 426,
   "metadata": {},
   "outputs": [
    {
     "data": {
      "text/plain": [
       "array([15991.56868119, 16799.29561352, 13568.3878842 , 20030.20334284,\n",
       "       17607.02254585, 17607.02254585, 17607.02254585, 21645.6572075 ,\n",
       "       20030.20334284, 14376.11481653, 14376.11481653, 15183.84174886,\n",
       "       15183.84174886, 17607.02254585, 20030.20334284, 20030.20334284,\n",
       "       21645.6572075 , -5009.33155941,  3067.9377639 ,  3067.9377639 ,\n",
       "        4683.39162856,  7106.57242555, 13568.3878842 ,  7106.57242555,\n",
       "        7106.57242555,  7106.57242555, 13568.3878842 , 13568.3878842 ,\n",
       "       18414.74947818, -5817.05849174,  7106.57242555,  3875.66469623,\n",
       "       10337.48015487, 10337.48015487, 10337.48015487, 10337.48015487,\n",
       "       11145.2070872 , 11145.2070872 , 11145.2070872 , 11145.2070872 ,\n",
       "       15183.84174886, 12760.66095187, 14376.11481653,  3067.9377639 ,\n",
       "        3067.9377639 , 14376.11481653, 22453.38413983, 22453.38413983,\n",
       "       24068.83800449, 12760.66095187,  7106.57242555,  7106.57242555,\n",
       "        7106.57242555,  7106.57242555, 19222.47641051, 19222.47641051,\n",
       "       19222.47641051, 19222.47641051, 11952.93401953, 11952.93401953,\n",
       "       11952.93401953, 11952.93401953,  3875.66469623, 11952.93401953,\n",
       "       15991.56868119,  6298.84549322, 17607.02254585, 17607.02254585,\n",
       "       17607.02254585, 17607.02254585, 23261.11107216, 23261.11107216,\n",
       "       24876.56493682, 24876.56493682, 18414.74947818,  4683.39162856,\n",
       "        7106.57242555,  7106.57242555, 13568.3878842 , 13568.3878842 ,\n",
       "       11952.93401953, 18414.74947818, 18414.74947818, 18414.74947818,\n",
       "       11952.93401953, 11952.93401953, 13568.3878842 , 13568.3878842 ,\n",
       "        7914.29935788, -2586.15076242,  7914.29935788,  7914.29935788,\n",
       "        7914.29935788,  7914.29935788,  7914.29935788,  7914.29935788,\n",
       "        7914.29935788,  7914.29935788, 10337.48015487, 10337.48015487,\n",
       "       20030.20334284, 20030.20334284, 17607.02254585, 17607.02254585,\n",
       "       19222.47641051, 17607.02254585, 18414.74947818, 11145.2070872 ,\n",
       "       18414.74947818, 17607.02254585, 18414.74947818, 11145.2070872 ,\n",
       "       18414.74947818, 17607.02254585, 18414.74947818, 11145.2070872 ,\n",
       "       18414.74947818,  4683.39162856, 13568.3878842 ,  7106.57242555,\n",
       "        7106.57242555,  7106.57242555, 13568.3878842 , 18414.74947818,\n",
       "       15991.56868119, 17607.02254585, 17607.02254585, 17607.02254585,\n",
       "       15183.84174886, 12760.66095187, 12760.66095187, 15183.84174886,\n",
       "       15183.84174886, 15183.84174886, 15183.84174886, 16799.29561352,\n",
       "       16799.29561352,  8722.02629021, 12760.66095187, 12760.66095187,\n",
       "        7914.29935788, 11145.2070872 , 11952.93401953, 17607.02254585,\n",
       "       14376.11481653, 11952.93401953, 12760.66095187, 14376.11481653,\n",
       "       19222.47641051,  6298.84549322,  7106.57242555,  7106.57242555,\n",
       "        7914.29935788, 11952.93401953, 11952.93401953,  7914.29935788,\n",
       "        7914.29935788,  8722.02629021,  -162.96996542,  -162.96996542,\n",
       "       10337.48015487, 10337.48015487, 10337.48015487, 10337.48015487,\n",
       "       14376.11481653, 14376.11481653, 13568.3878842 , 13568.3878842 ,\n",
       "       13568.3878842 , 13568.3878842 , 13568.3878842 , 13568.3878842 ,\n",
       "       10337.48015487, 11145.2070872 , 11952.93401953, 11952.93401953,\n",
       "       11952.93401953, 18414.74947818, 18414.74947818, 18414.74947818,\n",
       "       18414.74947818,   644.75696691, 10337.48015487,   644.75696691,\n",
       "       10337.48015487, 10337.48015487,  3875.66469623, 11952.93401953,\n",
       "       14376.11481653, 14376.11481653, 18414.74947818,  7106.57242555,\n",
       "       12760.66095187, 15183.84174886, 15183.84174886, 15183.84174886,\n",
       "       15183.84174886, 20030.20334284, 20030.20334284, 15183.84174886,\n",
       "       17607.02254585, 19222.47641051, 15991.56868119, 17607.02254585])"
      ]
     },
     "execution_count": 426,
     "metadata": {},
     "output_type": "execute_result"
    }
   ],
   "source": [
    "yhat=RigeModel.predict(X) #Predict!\n",
    "yhat "
   ]
  },
  {
   "cell_type": "code",
   "execution_count": 427,
   "metadata": {},
   "outputs": [],
   "source": [
    "# Grid Search\n",
    "from sklearn.model_selection import GridSearchCV\n",
    "#Import GridSearchCV"
   ]
  },
  {
   "cell_type": "code",
   "execution_count": 428,
   "metadata": {},
   "outputs": [
    {
     "data": {
      "text/plain": [
       "[{'alpha': [0.001, 0.1, 1, 10, 100, 1000, 10000, 100000, 1000000]}]"
      ]
     },
     "execution_count": 428,
     "metadata": {},
     "output_type": "execute_result"
    }
   ],
   "source": [
    "parameters1=[{'alpha':[0.001,0.1,1,10,100,1000,10000,100000,1000000]}] \n",
    "parameters1\n",
    "#Defining a list containing dictionary which has alpha (hyperpar.) as the key and it's values as values"
   ]
  },
  {
   "cell_type": "code",
   "execution_count": 430,
   "metadata": {},
   "outputs": [
    {
     "data": {
      "text/plain": [
       "Ridge()"
      ]
     },
     "execution_count": 430,
     "metadata": {},
     "output_type": "execute_result"
    }
   ],
   "source": [
    "RR=Ridge()\n",
    "RR\n",
    "# Creating object "
   ]
  },
  {
   "cell_type": "code",
   "execution_count": 431,
   "metadata": {},
   "outputs": [],
   "source": [
    "Grid1=GridSearchCV(RR,parameters1,cv=4) \n",
    "# Grid Search CV object created with inputs as the model,the hyperparameters and the scoring method i.e. folds (R^2)"
   ]
  },
  {
   "cell_type": "code",
   "execution_count": 433,
   "metadata": {},
   "outputs": [
    {
     "data": {
      "text/plain": [
       "GridSearchCV(cv=4, estimator=Ridge(),\n",
       "             param_grid=[{'alpha': [0.001, 0.1, 1, 10, 100, 1000, 10000, 100000,\n",
       "                                    1000000]}])"
      ]
     },
     "execution_count": 433,
     "metadata": {},
     "output_type": "execute_result"
    }
   ],
   "source": [
    "Grid1.fit(x_data[['horsepower','curb-weight','engine-size','highway-mpg']],y_data) \n",
    "#Fit/Train the model"
   ]
  },
  {
   "cell_type": "code",
   "execution_count": 237,
   "metadata": {},
   "outputs": [],
   "source": [
    "df.horsepower = pd.to_numeric(df.horsepower, errors='coerce').fillna(0).astype(np.int64) \n"
   ]
  },
  {
   "cell_type": "code",
   "execution_count": 441,
   "metadata": {},
   "outputs": [],
   "source": [
    "BestRR=Grid1.best_estimator_# Find best values of the free parameters using attribute best_estimator_"
   ]
  },
  {
   "cell_type": "code",
   "execution_count": 442,
   "metadata": {},
   "outputs": [
    {
     "data": {
      "text/plain": [
       "0.7013794313064958"
      ]
     },
     "execution_count": 442,
     "metadata": {},
     "output_type": "execute_result"
    }
   ],
   "source": [
    "BestRR.score(x_test[['horsepower', 'curb-weight', 'engine-size', 'highway-mpg']], y_test)\n",
    "# We test our model on the test data"
   ]
  },
  {
   "cell_type": "code",
   "execution_count": 443,
   "metadata": {},
   "outputs": [
    {
     "data": {
      "text/plain": [
       "array([0.62523347, 0.62523497, 0.62524866, 0.62538441, 0.62664023,\n",
       "       0.63331572, 0.63675224, 0.60678915, 0.55270701])"
      ]
     },
     "execution_count": 443,
     "metadata": {},
     "output_type": "execute_result"
    }
   ],
   "source": [
    "scores=Grid1.cv_results_\n",
    "scores['mean_test_score']\n",
    "# Additional info can be obtained like getting the mean score on the validation data "
   ]
  },
  {
   "cell_type": "code",
   "execution_count": 444,
   "metadata": {},
   "outputs": [
    {
     "data": {
      "text/plain": [
       "[{'alpha': [0.001, 0.1, 1, 10, 100], 'normalize': [True, False]}]"
      ]
     },
     "execution_count": 444,
     "metadata": {},
     "output_type": "execute_result"
    }
   ],
   "source": [
    "#For testing multiple parameters by Grid Search CV\n",
    "parameters2=[{'alpha':[0.001,0.1,1,10,100],'normalize':[True,False]}] # Normalize hyperparameter added in list as dict\n",
    "parameters2"
   ]
  },
  {
   "cell_type": "code",
   "execution_count": 446,
   "metadata": {},
   "outputs": [
    {
     "data": {
      "text/plain": [
       "Ridge()"
      ]
     },
     "execution_count": 446,
     "metadata": {},
     "output_type": "execute_result"
    }
   ],
   "source": [
    "RR1=Ridge() # Creating object \n",
    "RR1"
   ]
  },
  {
   "cell_type": "code",
   "execution_count": 447,
   "metadata": {},
   "outputs": [],
   "source": [
    "Grid1=GridSearchCV(RR1,parameters2,cv=4)\n",
    "# Grid Search CV object created with inputs as the model,the hyperparameters and the scoring method i.e. folds (R^2)"
   ]
  },
  {
   "cell_type": "code",
   "execution_count": 448,
   "metadata": {},
   "outputs": [
    {
     "data": {
      "text/plain": [
       "GridSearchCV(cv=4, estimator=Ridge(),\n",
       "             param_grid=[{'alpha': [0.001, 0.1, 1, 10, 100],\n",
       "                          'normalize': [True, False]}])"
      ]
     },
     "execution_count": 448,
     "metadata": {},
     "output_type": "execute_result"
    }
   ],
   "source": [
    "Grid1.fit(x_data[['horsepower','curb-weight','engine-size','highway-mpg']],y_data) \n",
    "#Fit/Train the model"
   ]
  },
  {
   "cell_type": "code",
   "execution_count": 450,
   "metadata": {},
   "outputs": [
    {
     "data": {
      "text/plain": [
       "Ridge(alpha=0.1, normalize=True)"
      ]
     },
     "execution_count": 450,
     "metadata": {},
     "output_type": "execute_result"
    }
   ],
   "source": [
    "BestRR1=Grid1.best_estimator_ # Find best values of the free parameters using attribute best_estimator_\n",
    "BestRR1"
   ]
  },
  {
   "cell_type": "code",
   "execution_count": 451,
   "metadata": {},
   "outputs": [
    {
     "data": {
      "text/plain": [
       "0.7087246264164371"
      ]
     },
     "execution_count": 451,
     "metadata": {},
     "output_type": "execute_result"
    }
   ],
   "source": [
    "BestRR1.score(x_test[['horsepower', 'curb-weight', 'engine-size', 'highway-mpg']], y_test)\n",
    "# We test our model on the test data"
   ]
  },
  {
   "cell_type": "code",
   "execution_count": 452,
   "metadata": {},
   "outputs": [
    {
     "data": {
      "text/plain": [
       "array([0.62590948, 0.62523347, 0.64839073, 0.62523497, 0.62393443,\n",
       "       0.62524866, 0.29007688, 0.62538441, 0.02110777, 0.62664023])"
      ]
     },
     "execution_count": 452,
     "metadata": {},
     "output_type": "execute_result"
    }
   ],
   "source": [
    "scores=Grid1.cv_results_\n",
    "scores['mean_test_score']\n",
    "# Additional info can be obtained like getting the mean score on the validation data "
   ]
  },
  {
   "cell_type": "code",
   "execution_count": 453,
   "metadata": {},
   "outputs": [
    {
     "ename": "SyntaxError",
     "evalue": "invalid syntax (<ipython-input-453-2ec577f7a7ea>, line 1)",
     "output_type": "error",
     "traceback": [
      "\u001b[1;36m  File \u001b[1;32m\"<ipython-input-453-2ec577f7a7ea>\"\u001b[1;36m, line \u001b[1;32m1\u001b[0m\n\u001b[1;33m    for param,mean_val,mean_test inzip(scores['params'],scores['mean_test_scores'],scores['mean_train_score']):\u001b[0m\n\u001b[1;37m                                 ^\u001b[0m\n\u001b[1;31mSyntaxError\u001b[0m\u001b[1;31m:\u001b[0m invalid syntax\n"
     ]
    }
   ],
   "source": [
    "for param,mean_val,mean_test inzip(scores['params'],scores['mean_test_scores'],scores['mean_train_score']):\n",
    "    print(param,\"R^2 on test data:\",mean_val,\"R^2 on train data:\",mean_test)"
   ]
  },
  {
   "cell_type": "code",
   "execution_count": null,
   "metadata": {},
   "outputs": [],
   "source": []
  }
 ],
 "metadata": {
  "kernelspec": {
   "display_name": "Python 3",
   "language": "python",
   "name": "python3"
  },
  "language_info": {
   "codemirror_mode": {
    "name": "ipython",
    "version": 3
   },
   "file_extension": ".py",
   "mimetype": "text/x-python",
   "name": "python",
   "nbconvert_exporter": "python",
   "pygments_lexer": "ipython3",
   "version": "3.8.3"
  }
 },
 "nbformat": 4,
 "nbformat_minor": 4
}
